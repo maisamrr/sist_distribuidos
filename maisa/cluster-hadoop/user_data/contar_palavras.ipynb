{
 "cells": [
  {
   "cell_type": "code",
   "execution_count": 1,
   "id": "04007127-ff50-4c5a-a9e5-d59e0784f71e",
   "metadata": {},
   "outputs": [
    {
     "name": "stderr",
     "output_type": "stream",
     "text": [
      "Setting default log level to \"WARN\".\n",
      "To adjust logging level use sc.setLogLevel(newLevel). For SparkR, use setLogLevel(newLevel).\n",
      "24/05/27 19:44:35 WARN NativeCodeLoader: Unable to load native-hadoop library for your platform... using builtin-java classes where applicable\n",
      "24/05/27 19:44:40 WARN Client: Neither spark.yarn.jars nor spark.yarn.archive is set, falling back to uploading libraries under SPARK_HOME.\n",
      "                                                                                \r"
     ]
    },
    {
     "name": "stdout",
     "output_type": "stream",
     "text": [
      "66676\n"
     ]
    },
    {
     "name": "stderr",
     "output_type": "stream",
     "text": [
      "                                                                                \r"
     ]
    },
    {
     "name": "stdout",
     "output_type": "stream",
     "text": [
      "68240\n"
     ]
    }
   ],
   "source": [
    "import findspark\n",
    "from pyspark.sql.session import SparkSession\n",
    "from pyspark import SparkContext, SparkConf\n",
    "\n",
    "# Inicializando Spark\n",
    "findspark.init(\"/usr/spark-3.5.1/\")\n",
    "\n",
    "\n",
    "spark = (\n",
    "    SparkSession.builder.appName(\"sparksubmit_test_app\")\n",
    "    .config(\"spark.sql.warehouse.dir\", \"hdfs:///user/hive/warehouse\")\n",
    "    .config(\"spark.sql.catalogImplementation\", \"hive\")\n",
    "    .getOrCreate()\n",
    ")\n",
    "\n",
    "# criar um contexto de sessão do spark (cria um \"programa\")\n",
    "sc = SparkContext.getOrCreate()\n",
    "\n",
    "def main():\n",
    "\n",
    "    df = spark.read.text(\"hdfs://spark-master:9000/datasets/\")  # noqa: F841\n",
    "\n",
    "    # variável recebe o caminho que aponta para uma arquivo de texto\n",
    "    file_path = \"/datasets/*.txt\"\n",
    "    # leitura do arquivo de texto pelo programa spark\n",
    "    words = sc.textFile(f\"{file_path}\").flatMap(lambda line: line.split(\" \"))\n",
    "    # contagem de palavras utilizando a sintaxe facilitada do pyspark\n",
    "    wordCounts = words.map(lambda word: (word, 1)).reduceByKey(lambda a,b:a +b)\n",
    "    # salvando arquivo com resultado da execução\n",
    "    wordCounts.saveAsTextFile(f\"{'/'.join(file_path.split('/')[:-1])}/word_count\")\n",
    "   \n",
    "    print(wordCounts.count())\n",
    "    print(wordCounts.countApproxDistinct())\n",
    "\n",
    "\n",
    "if __name__ == \"__main__\":\n",
    "    main()\n",
    "\n",
    "\n",
    "\n",
    "spark.stop()"
   ]
  },
  {
   "cell_type": "code",
   "execution_count": null,
   "id": "ccd7598f-9c23-4a6b-94dc-b388825b0a0e",
   "metadata": {},
   "outputs": [],
   "source": []
  }
 ],
 "metadata": {
  "kernelspec": {
   "display_name": "Python 3 (ipykernel)",
   "language": "python",
   "name": "python3"
  },
  "language_info": {
   "codemirror_mode": {
    "name": "ipython",
    "version": 3
   },
   "file_extension": ".py",
   "mimetype": "text/x-python",
   "name": "python",
   "nbconvert_exporter": "python",
   "pygments_lexer": "ipython3",
   "version": "3.9.2"
  }
 },
 "nbformat": 4,
 "nbformat_minor": 5
}
